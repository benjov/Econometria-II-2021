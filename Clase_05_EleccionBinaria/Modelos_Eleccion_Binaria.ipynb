{
 "cells": [
  {
   "cell_type": "markdown",
   "metadata": {},
   "source": [
    "# Estimación de Modelo Probit\n",
    "\n",
    "### Conjunto de datos: participación laboral femenina\n",
    "\n",
    "* En este ejercicio trabajamos en el conjunto de datos de Mroz sobre la participación laboral femenina con 8 variables.\n",
    "\n",
    "* Los datos cubren una muestra de 753 mujeres blancas casadas de entre 30 y 60 años en 1975. \n",
    "\n",
    "* La fuente original de estos datos es Mroz, T.A. (1987). “The sensitivity of an empirical model of married women’s hours of work to economic and statistical assumptions.” Econometrica 55, 765-799.\n",
    "\n",
    "* La descripción de las variables se puede encontrar a continuación:\n",
    "\n",
    "lfp: Labor-force participation of the married white woman (Categorical: 0/1)\n",
    "\n",
    "k5: Number of children younger than 6 years old\t(Entero positivo)\n",
    "\n",
    "k618: Number of children aged 6-18 (Entero positivo)\n",
    "\n",
    "age: Age in years (Entero positivo)\n",
    "\n",
    "wc: Wife's college attendance (Categorical: 0/1)\n",
    "\n",
    "hc: Husband's college attendance (Categorical: 0/1)\n",
    "\n",
    "lwg: Log expected wage rate for women in the labor force (Numerical)\n",
    "\n",
    "inc: Family income without the wife's income (Numerical)"
   ]
  },
  {
   "cell_type": "markdown",
   "metadata": {},
   "source": [
    "# 1. Importación de bibliotecas y datos"
   ]
  },
  {
   "cell_type": "code",
   "execution_count": 1,
   "metadata": {},
   "outputs": [],
   "source": [
    "# Dependecies:\n",
    "import pandas as pd\n",
    "import numpy as np\n",
    "import statsmodels.api as sm\n",
    "from statsmodels.discrete.discrete_model import Probit\n",
    "\n",
    "#\n",
    "import warnings\n",
    "warnings.filterwarnings('ignore')"
   ]
  },
  {
   "cell_type": "code",
   "execution_count": 2,
   "metadata": {},
   "outputs": [
    {
     "data": {
      "text/html": [
       "<div>\n",
       "<style scoped>\n",
       "    .dataframe tbody tr th:only-of-type {\n",
       "        vertical-align: middle;\n",
       "    }\n",
       "\n",
       "    .dataframe tbody tr th {\n",
       "        vertical-align: top;\n",
       "    }\n",
       "\n",
       "    .dataframe thead th {\n",
       "        text-align: right;\n",
       "    }\n",
       "</style>\n",
       "<table border=\"1\" class=\"dataframe\">\n",
       "  <thead>\n",
       "    <tr style=\"text-align: right;\">\n",
       "      <th></th>\n",
       "      <th>lfp</th>\n",
       "      <th>k5</th>\n",
       "      <th>k618</th>\n",
       "      <th>age</th>\n",
       "      <th>wc</th>\n",
       "      <th>hc</th>\n",
       "      <th>lwg</th>\n",
       "      <th>inc</th>\n",
       "    </tr>\n",
       "  </thead>\n",
       "  <tbody>\n",
       "    <tr>\n",
       "      <th>0</th>\n",
       "      <td>yes</td>\n",
       "      <td>1</td>\n",
       "      <td>0</td>\n",
       "      <td>32</td>\n",
       "      <td>no</td>\n",
       "      <td>no</td>\n",
       "      <td>1.210165</td>\n",
       "      <td>10.910001</td>\n",
       "    </tr>\n",
       "    <tr>\n",
       "      <th>1</th>\n",
       "      <td>yes</td>\n",
       "      <td>0</td>\n",
       "      <td>2</td>\n",
       "      <td>30</td>\n",
       "      <td>no</td>\n",
       "      <td>no</td>\n",
       "      <td>0.328504</td>\n",
       "      <td>19.500000</td>\n",
       "    </tr>\n",
       "    <tr>\n",
       "      <th>2</th>\n",
       "      <td>yes</td>\n",
       "      <td>1</td>\n",
       "      <td>3</td>\n",
       "      <td>35</td>\n",
       "      <td>no</td>\n",
       "      <td>no</td>\n",
       "      <td>1.514128</td>\n",
       "      <td>12.039999</td>\n",
       "    </tr>\n",
       "    <tr>\n",
       "      <th>3</th>\n",
       "      <td>yes</td>\n",
       "      <td>0</td>\n",
       "      <td>3</td>\n",
       "      <td>34</td>\n",
       "      <td>no</td>\n",
       "      <td>no</td>\n",
       "      <td>0.092115</td>\n",
       "      <td>6.800000</td>\n",
       "    </tr>\n",
       "    <tr>\n",
       "      <th>4</th>\n",
       "      <td>yes</td>\n",
       "      <td>1</td>\n",
       "      <td>2</td>\n",
       "      <td>31</td>\n",
       "      <td>yes</td>\n",
       "      <td>no</td>\n",
       "      <td>1.524280</td>\n",
       "      <td>20.100000</td>\n",
       "    </tr>\n",
       "  </tbody>\n",
       "</table>\n",
       "</div>"
      ],
      "text/plain": [
       "   lfp  k5  k618  age   wc  hc       lwg        inc\n",
       "0  yes   1     0   32   no  no  1.210165  10.910001\n",
       "1  yes   0     2   30   no  no  0.328504  19.500000\n",
       "2  yes   1     3   35   no  no  1.514128  12.039999\n",
       "3  yes   0     3   34   no  no  0.092115   6.800000\n",
       "4  yes   1     2   31  yes  no  1.524280  20.100000"
      ]
     },
     "execution_count": 2,
     "metadata": {},
     "output_type": "execute_result"
    }
   ],
   "source": [
    "# Importación de datos\n",
    "data = pd.read_csv('Mroz.csv')\n",
    "data.head()"
   ]
  },
  {
   "cell_type": "code",
   "execution_count": 3,
   "metadata": {},
   "outputs": [
    {
     "data": {
      "text/html": [
       "<div>\n",
       "<style scoped>\n",
       "    .dataframe tbody tr th:only-of-type {\n",
       "        vertical-align: middle;\n",
       "    }\n",
       "\n",
       "    .dataframe tbody tr th {\n",
       "        vertical-align: top;\n",
       "    }\n",
       "\n",
       "    .dataframe thead th {\n",
       "        text-align: right;\n",
       "    }\n",
       "</style>\n",
       "<table border=\"1\" class=\"dataframe\">\n",
       "  <thead>\n",
       "    <tr style=\"text-align: right;\">\n",
       "      <th></th>\n",
       "      <th>lfp</th>\n",
       "      <th>k5</th>\n",
       "      <th>k618</th>\n",
       "      <th>age</th>\n",
       "      <th>wc</th>\n",
       "      <th>hc</th>\n",
       "      <th>lwg</th>\n",
       "      <th>inc</th>\n",
       "      <th>lfp_d</th>\n",
       "      <th>wc_d</th>\n",
       "      <th>hc_d</th>\n",
       "    </tr>\n",
       "  </thead>\n",
       "  <tbody>\n",
       "    <tr>\n",
       "      <th>0</th>\n",
       "      <td>yes</td>\n",
       "      <td>1</td>\n",
       "      <td>0</td>\n",
       "      <td>32</td>\n",
       "      <td>no</td>\n",
       "      <td>no</td>\n",
       "      <td>1.210165</td>\n",
       "      <td>10.910001</td>\n",
       "      <td>1</td>\n",
       "      <td>0</td>\n",
       "      <td>0</td>\n",
       "    </tr>\n",
       "    <tr>\n",
       "      <th>1</th>\n",
       "      <td>yes</td>\n",
       "      <td>0</td>\n",
       "      <td>2</td>\n",
       "      <td>30</td>\n",
       "      <td>no</td>\n",
       "      <td>no</td>\n",
       "      <td>0.328504</td>\n",
       "      <td>19.500000</td>\n",
       "      <td>1</td>\n",
       "      <td>0</td>\n",
       "      <td>0</td>\n",
       "    </tr>\n",
       "    <tr>\n",
       "      <th>2</th>\n",
       "      <td>yes</td>\n",
       "      <td>1</td>\n",
       "      <td>3</td>\n",
       "      <td>35</td>\n",
       "      <td>no</td>\n",
       "      <td>no</td>\n",
       "      <td>1.514128</td>\n",
       "      <td>12.039999</td>\n",
       "      <td>1</td>\n",
       "      <td>0</td>\n",
       "      <td>0</td>\n",
       "    </tr>\n",
       "    <tr>\n",
       "      <th>3</th>\n",
       "      <td>yes</td>\n",
       "      <td>0</td>\n",
       "      <td>3</td>\n",
       "      <td>34</td>\n",
       "      <td>no</td>\n",
       "      <td>no</td>\n",
       "      <td>0.092115</td>\n",
       "      <td>6.800000</td>\n",
       "      <td>1</td>\n",
       "      <td>0</td>\n",
       "      <td>0</td>\n",
       "    </tr>\n",
       "    <tr>\n",
       "      <th>4</th>\n",
       "      <td>yes</td>\n",
       "      <td>1</td>\n",
       "      <td>2</td>\n",
       "      <td>31</td>\n",
       "      <td>yes</td>\n",
       "      <td>no</td>\n",
       "      <td>1.524280</td>\n",
       "      <td>20.100000</td>\n",
       "      <td>1</td>\n",
       "      <td>1</td>\n",
       "      <td>0</td>\n",
       "    </tr>\n",
       "    <tr>\n",
       "      <th>...</th>\n",
       "      <td>...</td>\n",
       "      <td>...</td>\n",
       "      <td>...</td>\n",
       "      <td>...</td>\n",
       "      <td>...</td>\n",
       "      <td>...</td>\n",
       "      <td>...</td>\n",
       "      <td>...</td>\n",
       "      <td>...</td>\n",
       "      <td>...</td>\n",
       "      <td>...</td>\n",
       "    </tr>\n",
       "    <tr>\n",
       "      <th>748</th>\n",
       "      <td>no</td>\n",
       "      <td>0</td>\n",
       "      <td>2</td>\n",
       "      <td>40</td>\n",
       "      <td>yes</td>\n",
       "      <td>yes</td>\n",
       "      <td>1.082864</td>\n",
       "      <td>28.200001</td>\n",
       "      <td>0</td>\n",
       "      <td>1</td>\n",
       "      <td>1</td>\n",
       "    </tr>\n",
       "    <tr>\n",
       "      <th>749</th>\n",
       "      <td>no</td>\n",
       "      <td>2</td>\n",
       "      <td>3</td>\n",
       "      <td>31</td>\n",
       "      <td>no</td>\n",
       "      <td>no</td>\n",
       "      <td>1.158040</td>\n",
       "      <td>10.000000</td>\n",
       "      <td>0</td>\n",
       "      <td>0</td>\n",
       "      <td>0</td>\n",
       "    </tr>\n",
       "    <tr>\n",
       "      <th>750</th>\n",
       "      <td>no</td>\n",
       "      <td>0</td>\n",
       "      <td>0</td>\n",
       "      <td>43</td>\n",
       "      <td>no</td>\n",
       "      <td>no</td>\n",
       "      <td>0.888140</td>\n",
       "      <td>9.952000</td>\n",
       "      <td>0</td>\n",
       "      <td>0</td>\n",
       "      <td>0</td>\n",
       "    </tr>\n",
       "    <tr>\n",
       "      <th>751</th>\n",
       "      <td>no</td>\n",
       "      <td>0</td>\n",
       "      <td>0</td>\n",
       "      <td>60</td>\n",
       "      <td>no</td>\n",
       "      <td>no</td>\n",
       "      <td>1.224974</td>\n",
       "      <td>24.983999</td>\n",
       "      <td>0</td>\n",
       "      <td>0</td>\n",
       "      <td>0</td>\n",
       "    </tr>\n",
       "    <tr>\n",
       "      <th>752</th>\n",
       "      <td>no</td>\n",
       "      <td>0</td>\n",
       "      <td>3</td>\n",
       "      <td>39</td>\n",
       "      <td>no</td>\n",
       "      <td>no</td>\n",
       "      <td>0.853213</td>\n",
       "      <td>28.363001</td>\n",
       "      <td>0</td>\n",
       "      <td>0</td>\n",
       "      <td>0</td>\n",
       "    </tr>\n",
       "  </tbody>\n",
       "</table>\n",
       "<p>753 rows × 11 columns</p>\n",
       "</div>"
      ],
      "text/plain": [
       "     lfp  k5  k618  age   wc   hc       lwg        inc  lfp_d  wc_d  hc_d\n",
       "0    yes   1     0   32   no   no  1.210165  10.910001      1     0     0\n",
       "1    yes   0     2   30   no   no  0.328504  19.500000      1     0     0\n",
       "2    yes   1     3   35   no   no  1.514128  12.039999      1     0     0\n",
       "3    yes   0     3   34   no   no  0.092115   6.800000      1     0     0\n",
       "4    yes   1     2   31  yes   no  1.524280  20.100000      1     1     0\n",
       "..   ...  ..   ...  ...  ...  ...       ...        ...    ...   ...   ...\n",
       "748   no   0     2   40  yes  yes  1.082864  28.200001      0     1     1\n",
       "749   no   2     3   31   no   no  1.158040  10.000000      0     0     0\n",
       "750   no   0     0   43   no   no  0.888140   9.952000      0     0     0\n",
       "751   no   0     0   60   no   no  1.224974  24.983999      0     0     0\n",
       "752   no   0     3   39   no   no  0.853213  28.363001      0     0     0\n",
       "\n",
       "[753 rows x 11 columns]"
      ]
     },
     "execution_count": 3,
     "metadata": {},
     "output_type": "execute_result"
    }
   ],
   "source": [
    "# Limpieza de datos:\n",
    "#\n",
    "data[\"lfp_d\"] = 0\n",
    "data.loc[data.lfp == \"yes\", \"lfp_d\"] = 1\n",
    "\n",
    "#\n",
    "data[\"wc_d\"] = 0\n",
    "data.loc[data.wc == \"yes\", \"wc_d\"] = 1\n",
    "\n",
    "#\n",
    "data[\"hc_d\"] = 0\n",
    "data.loc[data.hc == \"yes\", \"hc_d\"] = 1\n",
    "\n",
    "#\n",
    "data"
   ]
  },
  {
   "cell_type": "code",
   "execution_count": 4,
   "metadata": {},
   "outputs": [
    {
     "data": {
      "text/html": [
       "<div>\n",
       "<style scoped>\n",
       "    .dataframe tbody tr th:only-of-type {\n",
       "        vertical-align: middle;\n",
       "    }\n",
       "\n",
       "    .dataframe tbody tr th {\n",
       "        vertical-align: top;\n",
       "    }\n",
       "\n",
       "    .dataframe thead th {\n",
       "        text-align: right;\n",
       "    }\n",
       "</style>\n",
       "<table border=\"1\" class=\"dataframe\">\n",
       "  <thead>\n",
       "    <tr style=\"text-align: right;\">\n",
       "      <th></th>\n",
       "      <th>k5</th>\n",
       "      <th>k618</th>\n",
       "      <th>age</th>\n",
       "      <th>lwg</th>\n",
       "      <th>inc</th>\n",
       "      <th>lfp_d</th>\n",
       "      <th>wc_d</th>\n",
       "      <th>hc_d</th>\n",
       "    </tr>\n",
       "  </thead>\n",
       "  <tbody>\n",
       "    <tr>\n",
       "      <th>count</th>\n",
       "      <td>753.000000</td>\n",
       "      <td>753.000000</td>\n",
       "      <td>753.000000</td>\n",
       "      <td>753.000000</td>\n",
       "      <td>753.000000</td>\n",
       "      <td>753.000000</td>\n",
       "      <td>753.000000</td>\n",
       "      <td>753.000000</td>\n",
       "    </tr>\n",
       "    <tr>\n",
       "      <th>mean</th>\n",
       "      <td>0.237716</td>\n",
       "      <td>1.353254</td>\n",
       "      <td>42.537849</td>\n",
       "      <td>1.097115</td>\n",
       "      <td>20.128965</td>\n",
       "      <td>0.568393</td>\n",
       "      <td>0.281541</td>\n",
       "      <td>0.391766</td>\n",
       "    </tr>\n",
       "    <tr>\n",
       "      <th>std</th>\n",
       "      <td>0.523959</td>\n",
       "      <td>1.319874</td>\n",
       "      <td>8.072574</td>\n",
       "      <td>0.587556</td>\n",
       "      <td>11.634799</td>\n",
       "      <td>0.495630</td>\n",
       "      <td>0.450049</td>\n",
       "      <td>0.488469</td>\n",
       "    </tr>\n",
       "    <tr>\n",
       "      <th>min</th>\n",
       "      <td>0.000000</td>\n",
       "      <td>0.000000</td>\n",
       "      <td>30.000000</td>\n",
       "      <td>-2.054124</td>\n",
       "      <td>-0.029000</td>\n",
       "      <td>0.000000</td>\n",
       "      <td>0.000000</td>\n",
       "      <td>0.000000</td>\n",
       "    </tr>\n",
       "    <tr>\n",
       "      <th>25%</th>\n",
       "      <td>0.000000</td>\n",
       "      <td>0.000000</td>\n",
       "      <td>36.000000</td>\n",
       "      <td>0.818086</td>\n",
       "      <td>13.025000</td>\n",
       "      <td>0.000000</td>\n",
       "      <td>0.000000</td>\n",
       "      <td>0.000000</td>\n",
       "    </tr>\n",
       "    <tr>\n",
       "      <th>50%</th>\n",
       "      <td>0.000000</td>\n",
       "      <td>1.000000</td>\n",
       "      <td>43.000000</td>\n",
       "      <td>1.068403</td>\n",
       "      <td>17.700001</td>\n",
       "      <td>1.000000</td>\n",
       "      <td>0.000000</td>\n",
       "      <td>0.000000</td>\n",
       "    </tr>\n",
       "    <tr>\n",
       "      <th>75%</th>\n",
       "      <td>0.000000</td>\n",
       "      <td>2.000000</td>\n",
       "      <td>49.000000</td>\n",
       "      <td>1.399717</td>\n",
       "      <td>24.466000</td>\n",
       "      <td>1.000000</td>\n",
       "      <td>1.000000</td>\n",
       "      <td>1.000000</td>\n",
       "    </tr>\n",
       "    <tr>\n",
       "      <th>max</th>\n",
       "      <td>3.000000</td>\n",
       "      <td>8.000000</td>\n",
       "      <td>60.000000</td>\n",
       "      <td>3.218876</td>\n",
       "      <td>96.000000</td>\n",
       "      <td>1.000000</td>\n",
       "      <td>1.000000</td>\n",
       "      <td>1.000000</td>\n",
       "    </tr>\n",
       "  </tbody>\n",
       "</table>\n",
       "</div>"
      ],
      "text/plain": [
       "               k5        k618         age         lwg         inc       lfp_d  \\\n",
       "count  753.000000  753.000000  753.000000  753.000000  753.000000  753.000000   \n",
       "mean     0.237716    1.353254   42.537849    1.097115   20.128965    0.568393   \n",
       "std      0.523959    1.319874    8.072574    0.587556   11.634799    0.495630   \n",
       "min      0.000000    0.000000   30.000000   -2.054124   -0.029000    0.000000   \n",
       "25%      0.000000    0.000000   36.000000    0.818086   13.025000    0.000000   \n",
       "50%      0.000000    1.000000   43.000000    1.068403   17.700001    1.000000   \n",
       "75%      0.000000    2.000000   49.000000    1.399717   24.466000    1.000000   \n",
       "max      3.000000    8.000000   60.000000    3.218876   96.000000    1.000000   \n",
       "\n",
       "             wc_d        hc_d  \n",
       "count  753.000000  753.000000  \n",
       "mean     0.281541    0.391766  \n",
       "std      0.450049    0.488469  \n",
       "min      0.000000    0.000000  \n",
       "25%      0.000000    0.000000  \n",
       "50%      0.000000    0.000000  \n",
       "75%      1.000000    1.000000  \n",
       "max      1.000000    1.000000  "
      ]
     },
     "execution_count": 4,
     "metadata": {},
     "output_type": "execute_result"
    }
   ],
   "source": [
    "# Estadísticas descriptivas:\n",
    "\n",
    "data.describe()"
   ]
  },
  {
   "cell_type": "markdown",
   "metadata": {},
   "source": [
    "# 2. Estimación del modelo Probit"
   ]
  },
  {
   "cell_type": "code",
   "execution_count": 5,
   "metadata": {},
   "outputs": [],
   "source": [
    "# Definimos variables dependiente e independientes:\n",
    "\n",
    "Y = data['lfp_d']\n",
    "X = data[['k5', 'k618', 'age', 'wc_d', 'hc_d', 'lwg', 'inc']]\n",
    "X = sm.add_constant(X)"
   ]
  },
  {
   "cell_type": "code",
   "execution_count": 6,
   "metadata": {},
   "outputs": [
    {
     "name": "stdout",
     "output_type": "stream",
     "text": [
      "Optimization terminated successfully.\n",
      "         Current function value: 0.601189\n",
      "         Iterations 5\n",
      "                          Probit Regression Results                           \n",
      "==============================================================================\n",
      "Dep. Variable:                  lfp_d   No. Observations:                  753\n",
      "Model:                         Probit   Df Residuals:                      745\n",
      "Method:                           MLE   Df Model:                            7\n",
      "Date:                Wed, 12 May 2021   Pseudo R-squ.:                  0.1208\n",
      "Time:                        08:46:00   Log-Likelihood:                -452.69\n",
      "converged:                       True   LL-Null:                       -514.87\n",
      "Covariance Type:            nonrobust   LLR p-value:                 9.471e-24\n",
      "==============================================================================\n",
      "                 coef    std err          z      P>|z|      [0.025      0.975]\n",
      "------------------------------------------------------------------------------\n",
      "const          1.9184      0.381      5.040      0.000       1.172       2.664\n",
      "k5            -0.8747      0.114     -7.703      0.000      -1.097      -0.652\n",
      "k618          -0.0386      0.040     -0.953      0.340      -0.118       0.041\n",
      "age           -0.0378      0.008     -4.971      0.000      -0.053      -0.023\n",
      "wc_d           0.4883      0.135      3.604      0.000       0.223       0.754\n",
      "hc_d           0.0572      0.124      0.461      0.645      -0.186       0.300\n",
      "lwg            0.3656      0.088      4.165      0.000       0.194       0.538\n",
      "inc           -0.0205      0.005     -4.297      0.000      -0.030      -0.011\n",
      "==============================================================================\n"
     ]
    }
   ],
   "source": [
    "# Estimación:\n",
    "\n",
    "model = Probit(Y, X.astype(float))\n",
    "probit_model = model.fit()\n",
    "print(probit_model.summary())"
   ]
  },
  {
   "cell_type": "markdown",
   "metadata": {},
   "source": [
    "# 3. Efectos marginales"
   ]
  },
  {
   "cell_type": "markdown",
   "metadata": {},
   "source": [
    "Algunas caracterísricas de los datos:"
   ]
  },
  {
   "cell_type": "code",
   "execution_count": 7,
   "metadata": {},
   "outputs": [
    {
     "data": {
      "text/html": [
       "<div>\n",
       "<style scoped>\n",
       "    .dataframe tbody tr th:only-of-type {\n",
       "        vertical-align: middle;\n",
       "    }\n",
       "\n",
       "    .dataframe tbody tr th {\n",
       "        vertical-align: top;\n",
       "    }\n",
       "\n",
       "    .dataframe thead th {\n",
       "        text-align: right;\n",
       "    }\n",
       "</style>\n",
       "<table border=\"1\" class=\"dataframe\">\n",
       "  <thead>\n",
       "    <tr style=\"text-align: right;\">\n",
       "      <th>hc</th>\n",
       "      <th>no</th>\n",
       "      <th>yes</th>\n",
       "      <th>All</th>\n",
       "    </tr>\n",
       "    <tr>\n",
       "      <th>lfp</th>\n",
       "      <th></th>\n",
       "      <th></th>\n",
       "      <th></th>\n",
       "    </tr>\n",
       "  </thead>\n",
       "  <tbody>\n",
       "    <tr>\n",
       "      <th>no</th>\n",
       "      <td>207</td>\n",
       "      <td>118</td>\n",
       "      <td>325</td>\n",
       "    </tr>\n",
       "    <tr>\n",
       "      <th>yes</th>\n",
       "      <td>251</td>\n",
       "      <td>177</td>\n",
       "      <td>428</td>\n",
       "    </tr>\n",
       "    <tr>\n",
       "      <th>All</th>\n",
       "      <td>458</td>\n",
       "      <td>295</td>\n",
       "      <td>753</td>\n",
       "    </tr>\n",
       "  </tbody>\n",
       "</table>\n",
       "</div>"
      ],
      "text/plain": [
       "hc    no  yes  All\n",
       "lfp               \n",
       "no   207  118  325\n",
       "yes  251  177  428\n",
       "All  458  295  753"
      ]
     },
     "execution_count": 7,
     "metadata": {},
     "output_type": "execute_result"
    }
   ],
   "source": [
    "# Tablas de frecuencias por categoria para hc: Husband's college attendance (Categorical: 0/1)\n",
    "\n",
    "pd.crosstab(data[\"lfp\"], data[\"hc\"], margins = True)"
   ]
  },
  {
   "cell_type": "markdown",
   "metadata": {},
   "source": [
    "\\begin{eqnarray*}\n",
    "    EMg_j & = & P(y = 1 | \\mathbf{x}_i, x_j = 1) - P(y = 1 | \\mathbf{x}_i, x_j = 0) \\\\\n",
    "    & = & G(\\mathbf{x}_i \\boldsymbol{\\beta} | x_j = 1) - G(\\mathbf{x}_i \\boldsymbol{\\beta} | x_j = 0) \\\\\n",
    "    & = & G(\\beta_1 + x_{2} \\beta_2 + \\ldots + \\beta_j + \\ldots + x_{K} \\beta_K) \\\\\n",
    "    &  & - G(\\beta_1 + x_{2} \\beta_2 + \\ldots + 0 + \\ldots + x_{K} \\beta_K)\n",
    "\\end{eqnarray*}"
   ]
  },
  {
   "cell_type": "code",
   "execution_count": 8,
   "metadata": {},
   "outputs": [
    {
     "data": {
      "text/plain": [
       "array([[ 1.        ,  0.2377158 ,  1.35325365, 42.53784861,  0.2815405 ,\n",
       "         0.        ,  1.09711483, 20.12896541]])"
      ]
     },
     "execution_count": 8,
     "metadata": {},
     "output_type": "execute_result"
    }
   ],
   "source": [
    "# hc: Husband's college attendance = 0\n",
    "hc_data0 = np.column_stack((\n",
    "                            1, np.mean(data[\"k5\"]), np.mean(data[\"k618\"]), np.mean(data[\"age\"]),\n",
    "                            np.mean(data[\"wc_d\"]), 0, np.mean(data[\"lwg\"]), np.mean(data[\"inc\"])\n",
    "                           ))\n",
    "\n",
    "hc_data0"
   ]
  },
  {
   "cell_type": "code",
   "execution_count": 9,
   "metadata": {},
   "outputs": [
    {
     "data": {
      "text/plain": [
       "array([[ 1.        ,  0.2377158 ,  1.35325365, 42.53784861,  0.2815405 ,\n",
       "         1.        ,  1.09711483, 20.12896541]])"
      ]
     },
     "execution_count": 9,
     "metadata": {},
     "output_type": "execute_result"
    }
   ],
   "source": [
    "# hc: Husband's college attendance = 1\n",
    "hc_data1 = np.column_stack((\n",
    "                            1, np.mean(data[\"k5\"]), np.mean(data[\"k618\"]), np.mean(data[\"age\"]),\n",
    "                            np.mean(data[\"wc_d\"]), 1, np.mean(data[\"lwg\"]), np.mean(data[\"inc\"])\n",
    "                           ))\n",
    "\n",
    "hc_data1"
   ]
  },
  {
   "cell_type": "code",
   "execution_count": 10,
   "metadata": {},
   "outputs": [
    {
     "name": "stdout",
     "output_type": "stream",
     "text": [
      "[0.56938181]\n"
     ]
    }
   ],
   "source": [
    "# Estimación para el primero: D = 0\n",
    "print(probit_model.predict(hc_data0))"
   ]
  },
  {
   "cell_type": "code",
   "execution_count": 11,
   "metadata": {},
   "outputs": [
    {
     "name": "stdout",
     "output_type": "stream",
     "text": [
      "[0.59171968]\n"
     ]
    }
   ],
   "source": [
    "# Estimación para el segundo: D = 1\n",
    "print(probit_model.predict(hc_data1))"
   ]
  },
  {
   "cell_type": "code",
   "execution_count": 12,
   "metadata": {},
   "outputs": [
    {
     "data": {
      "text/html": [
       "<div>\n",
       "<style scoped>\n",
       "    .dataframe tbody tr th:only-of-type {\n",
       "        vertical-align: middle;\n",
       "    }\n",
       "\n",
       "    .dataframe tbody tr th {\n",
       "        vertical-align: top;\n",
       "    }\n",
       "\n",
       "    .dataframe thead th {\n",
       "        text-align: right;\n",
       "    }\n",
       "</style>\n",
       "<table border=\"1\" class=\"dataframe\">\n",
       "  <thead>\n",
       "    <tr style=\"text-align: right;\">\n",
       "      <th>wc</th>\n",
       "      <th>no</th>\n",
       "      <th>yes</th>\n",
       "      <th>All</th>\n",
       "    </tr>\n",
       "    <tr>\n",
       "      <th>lfp</th>\n",
       "      <th></th>\n",
       "      <th></th>\n",
       "      <th></th>\n",
       "    </tr>\n",
       "  </thead>\n",
       "  <tbody>\n",
       "    <tr>\n",
       "      <th>no</th>\n",
       "      <td>257</td>\n",
       "      <td>68</td>\n",
       "      <td>325</td>\n",
       "    </tr>\n",
       "    <tr>\n",
       "      <th>yes</th>\n",
       "      <td>284</td>\n",
       "      <td>144</td>\n",
       "      <td>428</td>\n",
       "    </tr>\n",
       "    <tr>\n",
       "      <th>All</th>\n",
       "      <td>541</td>\n",
       "      <td>212</td>\n",
       "      <td>753</td>\n",
       "    </tr>\n",
       "  </tbody>\n",
       "</table>\n",
       "</div>"
      ],
      "text/plain": [
       "wc    no  yes  All\n",
       "lfp               \n",
       "no   257   68  325\n",
       "yes  284  144  428\n",
       "All  541  212  753"
      ]
     },
     "execution_count": 12,
     "metadata": {},
     "output_type": "execute_result"
    }
   ],
   "source": [
    "# Tablas de frecuencias por categoria para wc: Wife's college attendance (Categorical: 0/1)\n",
    "\n",
    "pd.crosstab(data[\"lfp\"], data[\"wc\"], margins = True)"
   ]
  },
  {
   "cell_type": "code",
   "execution_count": 13,
   "metadata": {},
   "outputs": [
    {
     "data": {
      "text/plain": [
       "array([[ 1.        ,  0.2377158 ,  1.35325365, 42.53784861,  0.        ,\n",
       "         0.39176627,  1.09711483, 20.12896541]])"
      ]
     },
     "execution_count": 13,
     "metadata": {},
     "output_type": "execute_result"
    }
   ],
   "source": [
    "# wc: Wife's college attendance = 0\n",
    "wc_data0 = np.column_stack((1, np.mean(data[\"k5\"]), np.mean(data[\"k618\"]), np.mean(data[\"age\"]), \n",
    "                            0, np.mean(data[\"hc_d\"]), np.mean(data[\"lwg\"]), np.mean(data[\"inc\"])))\n",
    "\n",
    "wc_data0"
   ]
  },
  {
   "cell_type": "code",
   "execution_count": 14,
   "metadata": {},
   "outputs": [
    {
     "data": {
      "text/plain": [
       "array([[ 1.        ,  0.2377158 ,  1.35325365, 42.53784861,  1.        ,\n",
       "         0.39176627,  1.09711483, 20.12896541]])"
      ]
     },
     "execution_count": 14,
     "metadata": {},
     "output_type": "execute_result"
    }
   ],
   "source": [
    "# wc: Wife's college attendance = 0\n",
    "wc_data1 = np.column_stack((1, np.mean(data[\"k5\"]), np.mean(data[\"k618\"]), np.mean(data[\"age\"]), \n",
    "                            1, np.mean(data[\"hc_d\"]), np.mean(data[\"lwg\"]), np.mean(data[\"inc\"])))\n",
    "\n",
    "wc_data1"
   ]
  },
  {
   "cell_type": "code",
   "execution_count": 15,
   "metadata": {},
   "outputs": [
    {
     "name": "stdout",
     "output_type": "stream",
     "text": [
      "[0.52380974]\n",
      "[0.70816505]\n"
     ]
    },
    {
     "data": {
      "text/plain": [
       "(None, None)"
      ]
     },
     "execution_count": 15,
     "metadata": {},
     "output_type": "execute_result"
    }
   ],
   "source": [
    "print(probit_model.predict(wc_data0)), print(probit_model.predict(wc_data1))"
   ]
  },
  {
   "cell_type": "code",
   "execution_count": 16,
   "metadata": {},
   "outputs": [
    {
     "data": {
      "text/html": [
       "<div>\n",
       "<style scoped>\n",
       "    .dataframe tbody tr th:only-of-type {\n",
       "        vertical-align: middle;\n",
       "    }\n",
       "\n",
       "    .dataframe tbody tr th {\n",
       "        vertical-align: top;\n",
       "    }\n",
       "\n",
       "    .dataframe thead th {\n",
       "        text-align: right;\n",
       "    }\n",
       "</style>\n",
       "<table border=\"1\" class=\"dataframe\">\n",
       "  <thead>\n",
       "    <tr style=\"text-align: right;\">\n",
       "      <th>k5</th>\n",
       "      <th>0</th>\n",
       "      <th>1</th>\n",
       "      <th>2</th>\n",
       "      <th>3</th>\n",
       "      <th>All</th>\n",
       "    </tr>\n",
       "    <tr>\n",
       "      <th>lfp</th>\n",
       "      <th></th>\n",
       "      <th></th>\n",
       "      <th></th>\n",
       "      <th></th>\n",
       "      <th></th>\n",
       "    </tr>\n",
       "  </thead>\n",
       "  <tbody>\n",
       "    <tr>\n",
       "      <th>no</th>\n",
       "      <td>231</td>\n",
       "      <td>72</td>\n",
       "      <td>19</td>\n",
       "      <td>3</td>\n",
       "      <td>325</td>\n",
       "    </tr>\n",
       "    <tr>\n",
       "      <th>yes</th>\n",
       "      <td>375</td>\n",
       "      <td>46</td>\n",
       "      <td>7</td>\n",
       "      <td>0</td>\n",
       "      <td>428</td>\n",
       "    </tr>\n",
       "    <tr>\n",
       "      <th>All</th>\n",
       "      <td>606</td>\n",
       "      <td>118</td>\n",
       "      <td>26</td>\n",
       "      <td>3</td>\n",
       "      <td>753</td>\n",
       "    </tr>\n",
       "  </tbody>\n",
       "</table>\n",
       "</div>"
      ],
      "text/plain": [
       "k5     0    1   2  3  All\n",
       "lfp                      \n",
       "no   231   72  19  3  325\n",
       "yes  375   46   7  0  428\n",
       "All  606  118  26  3  753"
      ]
     },
     "execution_count": 16,
     "metadata": {},
     "output_type": "execute_result"
    }
   ],
   "source": [
    "# Tablas de frecuencias por categoria para k5: Number of children younger than 6 years old (Entero positivo)\n",
    "\n",
    "pd.crosstab(data[\"lfp\"], data[\"k5\"], margins = True)"
   ]
  },
  {
   "cell_type": "markdown",
   "metadata": {},
   "source": [
    "\\begin{eqnarray*}\n",
    "    EMg_j & = & P(y = 1 | \\mathbf{x}_i, x_j = 1) - P(y = 1 | \\mathbf{x}_i, x_j = 0) \\\\\n",
    "    & = & G(\\mathbf{x}_i \\boldsymbol{\\beta} | x_j = C + 1) - G(\\mathbf{x}_i \\boldsymbol{\\beta} | x_j = C) \\\\\n",
    "\\end{eqnarray*}"
   ]
  },
  {
   "cell_type": "code",
   "execution_count": 17,
   "metadata": {},
   "outputs": [
    {
     "data": {
      "text/plain": [
       "array([[ 1.        ,  0.        ,  1.35325365, 42.53784861,  0.2815405 ,\n",
       "         0.39176627,  1.09711483, 20.12896541],\n",
       "       [ 1.        ,  1.        ,  1.35325365, 42.53784861,  0.2815405 ,\n",
       "         0.39176627,  1.09711483, 20.12896541],\n",
       "       [ 1.        ,  2.        ,  1.35325365, 42.53784861,  0.2815405 ,\n",
       "         0.39176627,  1.09711483, 20.12896541],\n",
       "       [ 1.        ,  3.        ,  1.35325365, 42.53784861,  0.2815405 ,\n",
       "         0.39176627,  1.09711483, 20.12896541]])"
      ]
     },
     "execution_count": 17,
     "metadata": {},
     "output_type": "execute_result"
    }
   ],
   "source": [
    "k5_data = np.column_stack(( np.repeat(1,4), (0,1,2,3),\n",
    "                           np.repeat(np.mean(data[\"k618\"]), 4), np.repeat(np.mean(data[\"age\"]),4),\n",
    "                           np.repeat(np.mean(data[\"wc_d\"]),4), np.repeat(np.mean(data[\"hc_d\"]),4),\n",
    "                           np.repeat(np.mean(data[\"lwg\"]),4), np.repeat(np.mean(data[\"inc\"]),4) ))\n",
    "\n",
    "k5_data"
   ]
  },
  {
   "cell_type": "code",
   "execution_count": 18,
   "metadata": {},
   "outputs": [
    {
     "name": "stdout",
     "output_type": "stream",
     "text": [
      "[0.65730924 0.31932735 0.08942703 0.01324326]\n"
     ]
    }
   ],
   "source": [
    "print(probit_model.predict(k5_data))"
   ]
  },
  {
   "cell_type": "markdown",
   "metadata": {},
   "source": [
    "Sin importar el modelo que estemos ocupando, la forma de interpretar el modelo es mediante el efecto marginal, cuando $x_j$ sea una variable continua:\n",
    "\\begin{equation*}\n",
    "    EMg_j = \\frac{\\partial}{\\partial x_j} P(y = 1 | \\mathbf{x}_i) = \\frac{\\partial}{\\partial x_j} G(\\mathbf{x}_i \\boldsymbol{\\beta}) = g(\\mathbf{x}_i \\boldsymbol{\\beta}) \\beta_j\n",
    "\\end{equation*}"
   ]
  },
  {
   "cell_type": "code",
   "execution_count": 19,
   "metadata": {},
   "outputs": [
    {
     "name": "stdout",
     "output_type": "stream",
     "text": [
      "       Probit Marginal Effects       \n",
      "=====================================\n",
      "Dep. Variable:                  lfp_d\n",
      "Method:                          dydx\n",
      "At:                           overall\n",
      "==============================================================================\n",
      "                dy/dx    std err          z      P>|z|      [0.025      0.975]\n",
      "------------------------------------------------------------------------------\n",
      "k5            -0.2997      0.034     -8.726      0.000      -0.367      -0.232\n",
      "k618          -0.0132      0.014     -0.955      0.340      -0.040       0.014\n",
      "age           -0.0130      0.002     -5.219      0.000      -0.018      -0.008\n",
      "wc_d           0.1673      0.045      3.696      0.000       0.079       0.256\n",
      "hc_d           0.0196      0.042      0.461      0.645      -0.064       0.103\n",
      "lwg            0.1253      0.029      4.311      0.000       0.068       0.182\n",
      "inc           -0.0070      0.002     -4.451      0.000      -0.010      -0.004\n",
      "==============================================================================\n"
     ]
    }
   ],
   "source": [
    "#\n",
    "mfx = probit_model.get_margeff()\n",
    "\n",
    "print(mfx.summary())"
   ]
  },
  {
   "cell_type": "code",
   "execution_count": null,
   "metadata": {},
   "outputs": [],
   "source": []
  }
 ],
 "metadata": {
  "kernelspec": {
   "display_name": "Python 3",
   "language": "python",
   "name": "python3"
  },
  "language_info": {
   "codemirror_mode": {
    "name": "ipython",
    "version": 3
   },
   "file_extension": ".py",
   "mimetype": "text/x-python",
   "name": "python",
   "nbconvert_exporter": "python",
   "pygments_lexer": "ipython3",
   "version": "3.7.5"
  }
 },
 "nbformat": 4,
 "nbformat_minor": 2
}

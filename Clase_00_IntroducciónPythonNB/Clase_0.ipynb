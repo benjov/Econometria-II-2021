{
 "cells": [
  {
   "cell_type": "markdown",
   "metadata": {},
   "source": [
    "# Clase 0: Introducción a Python con Jupyter Notebook\n",
    "\n",
    "by Benjamín Oliva & Omar Alfaro"
   ]
  },
  {
   "cell_type": "markdown",
   "metadata": {},
   "source": [
    "## 0. Muy breve introducción al control de versiones con git "
   ]
  },
  {
   "cell_type": "markdown",
   "metadata": {},
   "source": [
    "Para los usuarios de Windows es necesario abrir *Git Bash*. En caso de que utilicen mac es necesario abrir la terminal (\"Control + Option + Shift + T”) y escribir \"*git --version*\"\n"
   ]
  },
  {
   "cell_type": "markdown",
   "metadata": {},
   "source": [
    "### Comandos básicos en la terminal "
   ]
  },
  {
   "cell_type": "markdown",
   "metadata": {},
   "source": [
    "* pwd (nos señala la ruta actual de trabajo)\n",
    "* clear (borra el historial de comandos)\n",
    "* ls (list files) \n",
    "* cd (change directory)\n",
    "* mkdir (crea una carpeta con el nombre que se indique) \n",
    "* rm (Borra archivos)"
   ]
  },
  {
   "cell_type": "markdown",
   "metadata": {},
   "source": [
    "### Comandos básicos en Git "
   ]
  },
  {
   "cell_type": "markdown",
   "metadata": {},
   "source": [
    "* git config --global user.name \"Pongan su nombre\" <- comando para cambiar el nombre \n",
    "* git config --global user.email \"Pongan su correo\" <- comando para poner el correo electrónico de una cuenta de github\n"
   ]
  },
  {
   "cell_type": "markdown",
   "metadata": {},
   "source": [
    "### Haciendo una copia local del repositorio de la clase "
   ]
  },
  {
   "cell_type": "markdown",
   "metadata": {},
   "source": [
    "* Paso 1: abrir la terminal o git bash \n",
    "* Paso 2: con _cd_ ir a la carpeta en que queremos copiar el repo de la clase\n",
    "* Paso 3: _git clone_ https://github.com/benjov/Econometria-II-2021"
   ]
  },
  {
   "cell_type": "markdown",
   "metadata": {},
   "source": [
    "### Actualizando el repositorio de la clase"
   ]
  },
  {
   "cell_type": "markdown",
   "metadata": {},
   "source": [
    "* Paso 1: abrir la terminal o git bash \n",
    "* Paso 2: con _cd_ ir a la carpeta donde se encuentra el repo clonado \n",
    "* Paso 3: _git pull origin master_"
   ]
  },
  {
   "cell_type": "markdown",
   "metadata": {},
   "source": [
    "## 1.- Motivación: ¿Por qué aprender python? "
   ]
  },
  {
   "cell_type": "markdown",
   "metadata": {},
   "source": [
    "![Languages](languages.png)"
   ]
  },
  {
   "cell_type": "markdown",
   "metadata": {},
   "source": [
    "![Popularity](growth_LANGUAGES.png)"
   ]
  },
  {
   "cell_type": "markdown",
   "metadata": {},
   "source": [
    "### Historia de python \n",
    "\n",
    "http://python-history.blogspot.com/2009/01/brief-timeline-of-python.html"
   ]
  },
  {
   "cell_type": "code",
   "execution_count": 1,
   "metadata": {},
   "outputs": [],
   "source": [
    "print(\"Hello world!\")"
   ]
  },
  {
   "cell_type": "markdown",
   "metadata": {},
   "source": [
    "## Introducción a la programación con python "
   ]
  },
  {
   "cell_type": "markdown",
   "metadata": {},
   "source": [
    "### Semántica y Sintaxys "
   ]
  },
  {
   "cell_type": "markdown",
   "metadata": {},
   "source": [
    "Los lenguajes de programación contienen ciertas palabras \"clave\" que son fundamentales para escribir instrucciones\n",
    " - and                      - del                    - global                - not                     - with\n",
    " - as                       - elif                   - if                    - or                      - yield\n",
    " - asser                    - else                   - import                - pass                    - False\n",
    " - break                    - except                 - in                    - raise                   - True\n",
    " - class                    - finally                - is                    - return                  - None\n",
    " - continue                 - for                    - lambda                - try \n",
    " - def                      - from                   - nonlocal              - while"
   ]
  },
  {
   "cell_type": "markdown",
   "metadata": {},
   "source": [
    "Por otro lado también existen las funciones\n",
    "\n",
    "- abs()                     - delattr()              - hash()                - memoryview()            - set()\n",
    "\n",
    "- all()                     - dict()                 - help()                - min()                   - setattr()\n",
    "\n",
    "- any()                     - dir()                  - hex()                 - next()                  - slice()\n",
    "\n",
    "- ascii()                   - divmod()               - id()                  - object()                - sorted()\n",
    "\n",
    "- bin()                     - enumerate()            - input()               - oct()                   - staticmethod()\n",
    "\n",
    "- bool()                    - eval()                 - int()                 - open()                  - str()\n",
    "\n",
    "- breakpoint()              - exec()                 - isinstance()          - ord()                   - sum()\n",
    "\n",
    "- bytearray()               - filter()               - issubclass()          - pow()                   - super()\n",
    "\n",
    "- bytes()                   - float()                - iter()                - print()                 - tuple()\n",
    "\n",
    "- callable()                - format()               - len()                 - property()              - type()\n",
    "\n",
    "- chr()                     - frozenset()            - list()                - range()                 - vars()\n",
    "\n",
    "- classmethod()             - getattr()              - locals()              - repr()                  - zip()\n",
    "\n",
    "- compile()                 - globals()              - map()                 - reversed()              - _ _import_ _()\n",
    "\n",
    "- complex()                  - hasattr()             - max()                 - round()\n",
    "\n"
   ]
  },
  {
   "cell_type": "markdown",
   "metadata": {},
   "source": [
    "La combinación _correcta_ de funciones y de palabras clave construyen la lista de instrucciones que queremos que se realicen. Es también importante considerar que Python es _\"sensitive case\"_, lo ue significa que en cualquier parte del código la diferenciación entre minusculas y mayúsculas es fundamental. "
   ]
  },
  {
   "cell_type": "markdown",
   "metadata": {},
   "source": [
    "### Operadores matemáticos"
   ]
  },
  {
   "cell_type": "markdown",
   "metadata": {},
   "source": [
    "* Suma y resta "
   ]
  },
  {
   "cell_type": "code",
   "execution_count": 2,
   "metadata": {},
   "outputs": [],
   "source": [
    "print(5+5-2)"
   ]
  },
  {
   "cell_type": "markdown",
   "metadata": {},
   "source": [
    "* Multiplicación y división "
   ]
  },
  {
   "cell_type": "code",
   "execution_count": 3,
   "metadata": {},
   "outputs": [],
   "source": [
    "print((3+8)*8/2)"
   ]
  },
  {
   "cell_type": "markdown",
   "metadata": {},
   "source": [
    "* Potencia "
   ]
  },
  {
   "cell_type": "code",
   "execution_count": 4,
   "metadata": {},
   "outputs": [],
   "source": [
    "print((5**5)**(1/2))"
   ]
  },
  {
   "cell_type": "markdown",
   "metadata": {},
   "source": [
    "* La parte entera de una división "
   ]
  },
  {
   "cell_type": "code",
   "execution_count": 5,
   "metadata": {},
   "outputs": [
    {
     "data": {
      "text/plain": [
       "101"
      ]
     },
     "execution_count": 5,
     "metadata": {},
     "output_type": "execute_result"
    }
   ],
   "source": [
    "509//5"
   ]
  },
  {
   "cell_type": "markdown",
   "metadata": {},
   "source": [
    "* La parte residual de una división "
   ]
  },
  {
   "cell_type": "code",
   "execution_count": 6,
   "metadata": {},
   "outputs": [
    {
     "data": {
      "text/plain": [
       "4"
      ]
     },
     "execution_count": 6,
     "metadata": {},
     "output_type": "execute_result"
    }
   ],
   "source": [
    "509%5"
   ]
  },
  {
   "cell_type": "markdown",
   "metadata": {},
   "source": [
    "### Operadores lógicos"
   ]
  },
  {
   "cell_type": "code",
   "execution_count": 7,
   "metadata": {},
   "outputs": [
    {
     "name": "stdout",
     "output_type": "stream",
     "text": [
      "False\n"
     ]
    }
   ],
   "source": [
    "print(4 == 4.5)"
   ]
  },
  {
   "cell_type": "code",
   "execution_count": 8,
   "metadata": {},
   "outputs": [
    {
     "name": "stdout",
     "output_type": "stream",
     "text": [
      "True\n"
     ]
    }
   ],
   "source": [
    "print(4!=4.5)"
   ]
  },
  {
   "cell_type": "code",
   "execution_count": 9,
   "metadata": {},
   "outputs": [
    {
     "name": "stdout",
     "output_type": "stream",
     "text": [
      "False\n"
     ]
    }
   ],
   "source": [
    "print(4>=4.5)"
   ]
  },
  {
   "cell_type": "code",
   "execution_count": 10,
   "metadata": {},
   "outputs": [
    {
     "name": "stdout",
     "output_type": "stream",
     "text": [
      "False\n"
     ]
    }
   ],
   "source": [
    "print(4>4)"
   ]
  },
  {
   "cell_type": "code",
   "execution_count": 11,
   "metadata": {},
   "outputs": [
    {
     "name": "stdout",
     "output_type": "stream",
     "text": [
      "True\n"
     ]
    }
   ],
   "source": [
    "print(\"Azul\"!=\"Verde\" or 2+2==5)"
   ]
  },
  {
   "cell_type": "code",
   "execution_count": 12,
   "metadata": {},
   "outputs": [
    {
     "name": "stdout",
     "output_type": "stream",
     "text": [
      "False\n"
     ]
    }
   ],
   "source": [
    "print(\"Azul\"!=\"Verde\" and 2+2==5)"
   ]
  },
  {
   "cell_type": "code",
   "execution_count": 13,
   "metadata": {},
   "outputs": [
    {
     "name": "stdout",
     "output_type": "stream",
     "text": [
      "True\n"
     ]
    }
   ],
   "source": [
    "print(not 2+2==5)"
   ]
  },
  {
   "cell_type": "markdown",
   "metadata": {},
   "source": [
    "### Tipos de datos"
   ]
  },
  {
   "cell_type": "markdown",
   "metadata": {},
   "source": [
    "* String"
   ]
  },
  {
   "cell_type": "code",
   "execution_count": 14,
   "metadata": {},
   "outputs": [
    {
     "name": "stdout",
     "output_type": "stream",
     "text": [
      "Buenos días!\n"
     ]
    },
    {
     "data": {
      "text/plain": [
       "str"
      ]
     },
     "execution_count": 14,
     "metadata": {},
     "output_type": "execute_result"
    }
   ],
   "source": [
    "a = \"Buenos días!\"\n",
    "print(a)\n",
    "type(a)"
   ]
  },
  {
   "cell_type": "markdown",
   "metadata": {},
   "source": [
    "* Interger"
   ]
  },
  {
   "cell_type": "code",
   "execution_count": 15,
   "metadata": {},
   "outputs": [
    {
     "name": "stdout",
     "output_type": "stream",
     "text": [
      "<class 'int'>\n"
     ]
    }
   ],
   "source": [
    "a = 450\n",
    "print(type(a))"
   ]
  },
  {
   "cell_type": "markdown",
   "metadata": {},
   "source": [
    "* Float"
   ]
  },
  {
   "cell_type": "code",
   "execution_count": 16,
   "metadata": {},
   "outputs": [
    {
     "name": "stdout",
     "output_type": "stream",
     "text": [
      "<class 'float'>\n"
     ]
    }
   ],
   "source": [
    "a = 3.1416\n",
    "print(type(a))"
   ]
  },
  {
   "cell_type": "markdown",
   "metadata": {},
   "source": [
    "* Boolean"
   ]
  },
  {
   "cell_type": "code",
   "execution_count": 20,
   "metadata": {},
   "outputs": [
    {
     "name": "stdout",
     "output_type": "stream",
     "text": [
      "True\n"
     ]
    },
    {
     "data": {
      "text/plain": [
       "bool"
      ]
     },
     "execution_count": 20,
     "metadata": {},
     "output_type": "execute_result"
    }
   ],
   "source": [
    "a = \"Python\" < \"python\"\n",
    "print(a)\n",
    "type(a)"
   ]
  },
  {
   "cell_type": "markdown",
   "metadata": {},
   "source": [
    "#### Conversion implicita y explicita"
   ]
  },
  {
   "cell_type": "code",
   "execution_count": 18,
   "metadata": {},
   "outputs": [
    {
     "ename": "SyntaxError",
     "evalue": "invalid syntax (<ipython-input-18-e35045964a2d>, line 2)",
     "output_type": "error",
     "traceback": [
      "\u001b[1;36m  File \u001b[1;32m\"<ipython-input-18-e35045964a2d>\"\u001b[1;36m, line \u001b[1;32m2\u001b[0m\n\u001b[1;33m    b \"Este es el año \"\u001b[0m\n\u001b[1;37m      ^\u001b[0m\n\u001b[1;31mSyntaxError\u001b[0m\u001b[1;31m:\u001b[0m invalid syntax\n"
     ]
    }
   ],
   "source": [
    "a = 2021\n",
    "b \"Este es el año \"\n",
    "print(b+a)"
   ]
  },
  {
   "cell_type": "code",
   "execution_count": null,
   "metadata": {},
   "outputs": [],
   "source": [
    "print(b+str(a))"
   ]
  },
  {
   "cell_type": "code",
   "execution_count": null,
   "metadata": {},
   "outputs": [],
   "source": [
    "c = 7.75;d = 6"
   ]
  },
  {
   "cell_type": "code",
   "execution_count": null,
   "metadata": {},
   "outputs": [],
   "source": [
    "type(c)"
   ]
  },
  {
   "cell_type": "code",
   "execution_count": null,
   "metadata": {},
   "outputs": [],
   "source": [
    "type(d)"
   ]
  },
  {
   "cell_type": "code",
   "execution_count": null,
   "metadata": {},
   "outputs": [],
   "source": [
    "print(c+d)"
   ]
  },
  {
   "cell_type": "code",
   "execution_count": null,
   "metadata": {},
   "outputs": [],
   "source": [
    "print(type(c+d))"
   ]
  },
  {
   "cell_type": "markdown",
   "metadata": {},
   "source": [
    "### Asignaciones "
   ]
  },
  {
   "cell_type": "markdown",
   "metadata": {},
   "source": [
    "Para asignar información a un objeto, utilizamos el operador que nos ayuda a hacer declaraciones _\"=\"_"
   ]
  },
  {
   "cell_type": "code",
   "execution_count": null,
   "metadata": {},
   "outputs": [],
   "source": [
    "a = \"Estoy asignando un string\"\n",
    "# variable = valor\n",
    "print(a)"
   ]
  },
  {
   "cell_type": "markdown",
   "metadata": {},
   "source": [
    " #### Algunas reglas para elegir el nombre de variables \n",
    " \n",
    " * No utilizar palabras clave o funciones que python ya tiene asignados \n",
    " * No usar espacios en los nombres de las variables\n",
    " * El nombre de las variables debe comenzar con una letra o con un guión bajo \"_\"\n",
    " "
   ]
  },
  {
   "cell_type": "code",
   "execution_count": null,
   "metadata": {},
   "outputs": [],
   "source": [
    "VAR_PIB_2020 = -0.089"
   ]
  },
  {
   "cell_type": "code",
   "execution_count": null,
   "metadata": {},
   "outputs": [],
   "source": [
    "2021_VAR_INPC = 0.032"
   ]
  },
  {
   "cell_type": "markdown",
   "metadata": {},
   "source": [
    "### Funciones y condicionales"
   ]
  },
  {
   "cell_type": "code",
   "execution_count": null,
   "metadata": {},
   "outputs": [],
   "source": [
    "def saludar_alumno():\n",
    "    alumno = input(\"Hola, ¿cuál es tu nombre?\")\n",
    "    mensaje = str (\"Buenos días, \" + str(alumno) + \". Espero que disfrutes este curso.\") \n",
    "    #Esto se conoce como \"identation\" (sangría)\n",
    "    return mensaje\n",
    "\n",
    "saludar_alumno()\n",
    "\n"
   ]
  },
  {
   "cell_type": "code",
   "execution_count": null,
   "metadata": {},
   "outputs": [],
   "source": [
    "def pregunta_zoomestre():\n",
    "    respuesta = input(\"¿Crees que el formato a distancia es más complicado? (Sí/No)\")\n",
    "    respuesta = respuesta.upper()\n",
    "    respuesta = respuesta.replace(\"Í\", \"I\")\n",
    "    if respuesta == \"SI\":\n",
    "        msj = \"Nosotros también. Pero estamos para apoyarte e intentar que el semestre sea más tranquilo para todos\"\n",
    "    elif respuesta == \"NO\":\n",
    "        msj = \"¿En serio crees que no vas a extrañar las jacarandas?\"\n",
    "    else:\n",
    "        msj = \"Lo siento, no estabamos preparados para esa respuesta\"\n",
    "    return  msj\n",
    "    \n",
    "    "
   ]
  },
  {
   "cell_type": "code",
   "execution_count": null,
   "metadata": {},
   "outputs": [],
   "source": [
    "pregunta_zoomestre()"
   ]
  },
  {
   "cell_type": "markdown",
   "metadata": {},
   "source": [
    "### Bucles"
   ]
  },
  {
   "cell_type": "markdown",
   "metadata": {},
   "source": [
    "* while"
   ]
  },
  {
   "cell_type": "code",
   "execution_count": null,
   "metadata": {},
   "outputs": [],
   "source": [
    "x = 10\n",
    "while x>0:\n",
    "    print(str(x) + \" es un número positivo \")\n",
    "    x=x-1\n",
    "    \n"
   ]
  },
  {
   "cell_type": "markdown",
   "metadata": {},
   "source": [
    "* for"
   ]
  },
  {
   "cell_type": "code",
   "execution_count": null,
   "metadata": {},
   "outputs": [],
   "source": [
    "numbers = range(10)\n",
    "\n",
    "for number in numbers:\n",
    "    print(number**2)"
   ]
  },
  {
   "cell_type": "markdown",
   "metadata": {},
   "source": [
    "## 3. Caso práctico: N-queens"
   ]
  },
  {
   "cell_type": "markdown",
   "metadata": {},
   "source": [
    "Planteamiento: en un tablero de ajedrez de 4x4 colocar 4 reinas de tal modo que no se hagan daño entre sí  "
   ]
  },
  {
   "cell_type": "markdown",
   "metadata": {},
   "source": [
    "![NQueens](StepsNQueens04.png)"
   ]
  },
  {
   "cell_type": "markdown",
   "metadata": {},
   "source": [
    "¿De qué manera podemos solucionar el problema para N =8) "
   ]
  },
  {
   "cell_type": "markdown",
   "metadata": {},
   "source": [
    "![8Queens](queens_attack_patterns.png)"
   ]
  },
  {
   "cell_type": "code",
   "execution_count": null,
   "metadata": {},
   "outputs": [],
   "source": [
    "from itertools import permutations\n",
    "\n",
    "N=2\n",
    "sol=0\n",
    "cols = range(N)\n",
    "for combo in permutations(cols):                      \n",
    "    if N==len(set(combo[i]+i for i in cols))==len(set(combo[i]-i for i in cols)):\n",
    "        sol += 1\n",
    "        print('Solution '+str(sol)+': '+str(combo)+'\\n')  \n",
    "        print(\"\\n\".join(' o ' * i + ' X ' + ' o ' * (N-i-1) for i in combo) + \"\\n\\n\\n\\n\")"
   ]
  },
  {
   "cell_type": "markdown",
   "metadata": {},
   "source": [
    "## 4.- Resumen de la sesión"
   ]
  },
  {
   "cell_type": "markdown",
   "metadata": {},
   "source": [
    "* Revisamos como clonar el repo de la clase y el modo en que lo pueden actualizar cada que sea necesario\n",
    "* Motivos importantes para aprender python\n",
    "* Algunos de los elementos más básicos de python \n",
    "    - Operadores matemáticos y lógicos\n",
    "    - Tipos de objetos, conversión de objetos y asignaciones\n",
    "    - Funciones y condicionales \n",
    "    - Bucles \n",
    "* Ejemplo práctico para solucionar problemas pensando como programador "
   ]
  },
  {
   "cell_type": "markdown",
   "metadata": {},
   "source": [
    "## 5. Recursos para aprender Python "
   ]
  },
  {
   "cell_type": "markdown",
   "metadata": {},
   "source": [
    "### Cursos\n",
    "\n",
    "* Python for Everybody (Coursera & Michigan)\n",
    "* Statistics with Python (Coursera & Michigan)\n",
    "* Python for Data Science (Coursera & Michigan)\n",
    "* Certificado profesional de Ciencia de datos (IBM)\n"
   ]
  },
  {
   "cell_type": "markdown",
   "metadata": {},
   "source": [
    "### Libros \n",
    "\n",
    " * Python for everybody\n",
    " * Think python "
   ]
  },
  {
   "cell_type": "markdown",
   "metadata": {},
   "source": [
    "### Recomendaciones \n",
    "\n",
    "* Saber programar en gran medida es saber leer errores, no se asusten por equivocarse\n",
    "* Buscar el error en _stack overflow_ siempre es de gran ayuda \n",
    "* Hagan proyectos colaborativos"
   ]
  }
 ],
 "metadata": {
  "kernelspec": {
   "display_name": "Python 3",
   "language": "python",
   "name": "python3"
  },
  "language_info": {
   "codemirror_mode": {
    "name": "ipython",
    "version": 3
   },
   "file_extension": ".py",
   "mimetype": "text/x-python",
   "name": "python",
   "nbconvert_exporter": "python",
   "pygments_lexer": "ipython3",
   "version": "3.8.5"
  }
 },
 "nbformat": 4,
 "nbformat_minor": 4
}

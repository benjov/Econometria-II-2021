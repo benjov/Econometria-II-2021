{
 "cells": [
  {
   "cell_type": "markdown",
   "metadata": {},
   "source": [
    "# Ejemplo de regresión Heckman - Modelo de selección de muestra"
   ]
  },
  {
   "cell_type": "markdown",
   "metadata": {},
   "source": [
    "## 1. Importación de bibliotecas y datos"
   ]
  },
  {
   "cell_type": "code",
   "execution_count": null,
   "metadata": {},
   "outputs": [],
   "source": [
    "import pandas as pd\n",
    "import statsmodels.api as sm\n",
    "import numpy as np\n",
    "import matplotlib.pyplot as plt\n",
    "from statsmodels.iolib.summary2 import summary_col\n",
    "import heckman as heckman\n",
    "\n",
    "# Omiting WARNINGS\n",
    "import warnings\n",
    "warnings.filterwarnings('ignore')"
   ]
  },
  {
   "cell_type": "code",
   "execution_count": null,
   "metadata": {},
   "outputs": [],
   "source": [
    "# Read data\n",
    "df = pd.read_stata('womenwk.dta')\n",
    "df"
   ]
  },
  {
   "cell_type": "markdown",
   "metadata": {},
   "source": [
    "El modelo de Heckman asume que el salario (wage) es una variable dependendiente que es determinada primero por un modelo binario.\n",
    "\n",
    "Por su parte, las variables married, children, educ y age se asumen como determinantes de la probabilidad de observar el salario. \n",
    "\n",
    "Así, el modelo será un probit para:\n",
    "$$wage_i = \\beta_0 + \\beta_1 educ_i + \\beta_2 age_i + u_i$$\n",
    "\n",
    "Asumimos que si el salario es observado, entonces la ecuación será:\n",
    "$$wage_i^* = \\gamma_0 + \\gamma_1 married + \\gamma_2 children + \\gamma_3 educ + \\gamma_4 age + v_i$$\n",
    "\n",
    "Donde $wage_i$ toma valores de 1 o 0, y where $u_i$ and $v_i$ have correlation $\\rho$. En resumen, asumiremos que el salario por hora es una función de la educación y la edad, mientras que la probabilidad de trabajar (la probabilidad de que se observe el salario) es una función del estado civil, el número de hijos en el hogar y (implícitamente) el salario ( a través de la inclusión de la edad y la educación, que creemos que determina el salario)."
   ]
  },
  {
   "cell_type": "markdown",
   "metadata": {},
   "source": [
    "## 2. Generación y transformación de datos"
   ]
  },
  {
   "cell_type": "code",
   "execution_count": null,
   "metadata": {},
   "outputs": [],
   "source": [
    "#Variables\n",
    "Y = df.wage\n",
    "W = df[['married', 'children', 'education', 'age']]\n",
    "W = sm.add_constant(W)\n",
    "\n",
    "X = df[['education', 'age']]\n",
    "X = sm.add_constant(X)"
   ]
  },
  {
   "cell_type": "markdown",
   "metadata": {},
   "source": [
    "## 3. Estimación"
   ]
  },
  {
   "cell_type": "code",
   "execution_count": null,
   "metadata": {},
   "outputs": [],
   "source": [
    "# En dos etapas\n",
    "res = heckman.Heckman(Y, X, W).fit(method='twostep')\n",
    "print(res.summary())"
   ]
  },
  {
   "cell_type": "code",
   "execution_count": null,
   "metadata": {},
   "outputs": [],
   "source": []
  }
 ],
 "metadata": {
  "kernelspec": {
   "display_name": "Python 3",
   "language": "python",
   "name": "python3"
  },
  "language_info": {
   "codemirror_mode": {
    "name": "ipython",
    "version": 3
   },
   "file_extension": ".py",
   "mimetype": "text/x-python",
   "name": "python",
   "nbconvert_exporter": "python",
   "pygments_lexer": "ipython3",
   "version": "3.7.5"
  }
 },
 "nbformat": 4,
 "nbformat_minor": 2
}
